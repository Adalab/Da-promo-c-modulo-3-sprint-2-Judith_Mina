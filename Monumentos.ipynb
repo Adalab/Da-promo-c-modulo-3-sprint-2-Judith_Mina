{
 "cells": [
  {
   "cell_type": "code",
   "execution_count": 697,
   "metadata": {},
   "outputs": [],
   "source": [
    "import pandas as pd \n",
    "import awoc\n",
    "import numpy as np\n",
    "import re"
   ]
  },
  {
   "cell_type": "code",
   "execution_count": 698,
   "metadata": {},
   "outputs": [],
   "source": [
    "pd.options.display.max_columns = None\n",
    "pd.options.display.max_rows = None"
   ]
  },
  {
   "cell_type": "code",
   "execution_count": 699,
   "metadata": {},
   "outputs": [],
   "source": [
    "df = pd.read_csv(\"monumentos_world.csv\", index_col=0)"
   ]
  },
  {
   "cell_type": "code",
   "execution_count": 700,
   "metadata": {},
   "outputs": [
    {
     "data": {
      "text/html": [
       "<div>\n",
       "<style scoped>\n",
       "    .dataframe tbody tr th:only-of-type {\n",
       "        vertical-align: middle;\n",
       "    }\n",
       "\n",
       "    .dataframe tbody tr th {\n",
       "        vertical-align: top;\n",
       "    }\n",
       "\n",
       "    .dataframe thead th {\n",
       "        text-align: right;\n",
       "    }\n",
       "</style>\n",
       "<table border=\"1\" class=\"dataframe\">\n",
       "  <thead>\n",
       "    <tr style=\"text-align: right;\">\n",
       "      <th></th>\n",
       "      <th>Imagen</th>\n",
       "      <th>N.º</th>\n",
       "      <th>PH</th>\n",
       "      <th>Nombre</th>\n",
       "      <th>Ciudad</th>\n",
       "      <th>País</th>\n",
       "      <th>Visitantes/año</th>\n",
       "      <th>Año</th>\n",
       "      <th>#</th>\n",
       "    </tr>\n",
       "  </thead>\n",
       "  <tbody>\n",
       "    <tr>\n",
       "      <th>0</th>\n",
       "      <td>Shwedagon Pagoda 2017.jpg</td>\n",
       "      <td>f/o</td>\n",
       "      <td>—</td>\n",
       "      <td>Gran Pagoda de Shwedagon</td>\n",
       "      <td>Yangon</td>\n",
       "      <td>Bandera de Birmania Birmania</td>\n",
       "      <td>615 763</td>\n",
       "      <td>201747​</td>\n",
       "      <td>—</td>\n",
       "    </tr>\n",
       "    <tr>\n",
       "      <th>1</th>\n",
       "      <td>Kerbela Hussein Moschee.jpg</td>\n",
       "      <td>—</td>\n",
       "      <td>—</td>\n",
       "      <td>Tumba del Imán Hussein</td>\n",
       "      <td>Kerbala</td>\n",
       "      <td>Bandera de Irak Irak</td>\n",
       "      <td>45 000 000</td>\n",
       "      <td>?</td>\n",
       "      <td>—</td>\n",
       "    </tr>\n",
       "  </tbody>\n",
       "</table>\n",
       "</div>"
      ],
      "text/plain": [
       "                        Imagen  N.º PH                    Nombre   Ciudad  \\\n",
       "0    Shwedagon Pagoda 2017.jpg  f/o  —  Gran Pagoda de Shwedagon   Yangon   \n",
       "1  Kerbela Hussein Moschee.jpg    —  —    Tumba del Imán Hussein  Kerbala   \n",
       "\n",
       "                           País Visitantes/año      Año  #  \n",
       "0  Bandera de Birmania Birmania        615 763  201747​  —  \n",
       "1          Bandera de Irak Irak     45 000 000        ?  —  "
      ]
     },
     "execution_count": 700,
     "metadata": {},
     "output_type": "execute_result"
    }
   ],
   "source": [
    "df.head(2)"
   ]
  },
  {
   "attachments": {},
   "cell_type": "markdown",
   "metadata": {},
   "source": [
    "____________"
   ]
  },
  {
   "attachments": {},
   "cell_type": "markdown",
   "metadata": {},
   "source": [
    "### 1. Empezamos con un EDA básico"
   ]
  },
  {
   "cell_type": "code",
   "execution_count": 701,
   "metadata": {},
   "outputs": [
    {
     "name": "stdout",
     "output_type": "stream",
     "text": [
      "<class 'pandas.core.frame.DataFrame'>\n",
      "Int64Index: 206 entries, 0 to 205\n",
      "Data columns (total 9 columns):\n",
      " #   Column          Non-Null Count  Dtype \n",
      "---  ------          --------------  ----- \n",
      " 0   Imagen          206 non-null    object\n",
      " 1   N.º             204 non-null    object\n",
      " 2   PH              205 non-null    object\n",
      " 3   Nombre          204 non-null    object\n",
      " 4   Ciudad          159 non-null    object\n",
      " 5   País            159 non-null    object\n",
      " 6   Visitantes/año  112 non-null    object\n",
      " 7   Año             113 non-null    object\n",
      " 8   #               109 non-null    object\n",
      "dtypes: object(9)\n",
      "memory usage: 16.1+ KB\n"
     ]
    }
   ],
   "source": [
    "df.info()"
   ]
  },
  {
   "cell_type": "code",
   "execution_count": 702,
   "metadata": {},
   "outputs": [
    {
     "data": {
      "text/plain": [
       "(206, 9)"
      ]
     },
     "execution_count": 702,
     "metadata": {},
     "output_type": "execute_result"
    }
   ],
   "source": [
    "df.shape\n"
   ]
  },
  {
   "cell_type": "code",
   "execution_count": 703,
   "metadata": {},
   "outputs": [
    {
     "data": {
      "text/plain": [
       "Index(['Imagen', 'N.º', 'PH', 'Nombre', 'Ciudad', 'País', 'Visitantes/año',\n",
       "       'Año', '#'],\n",
       "      dtype='object')"
      ]
     },
     "execution_count": 703,
     "metadata": {},
     "output_type": "execute_result"
    }
   ],
   "source": [
    "df.columns"
   ]
  },
  {
   "attachments": {},
   "cell_type": "markdown",
   "metadata": {},
   "source": [
    "Cambiamos el nombre de las columnas para que no tenga mayúsculas ni acentos"
   ]
  },
  {
   "cell_type": "code",
   "execution_count": 704,
   "metadata": {},
   "outputs": [],
   "source": [
    "lista_cols = [x.replace(\"í\", \"i\").replace(\"/\", \"_\").lower() for x in df.columns]"
   ]
  },
  {
   "cell_type": "code",
   "execution_count": 705,
   "metadata": {},
   "outputs": [],
   "source": [
    "# añadimos de manera \"manual\" a la columna de año \"_conteo\", para poder diferenciarlo más adelante de la futura columna de \"año_monumento\", por ejemplo\n",
    "\n",
    "lista_cols = ['imagen',\n",
    " 'n.º',\n",
    " 'ph',\n",
    " 'nombre',\n",
    " 'ciudad',\n",
    " 'pais',\n",
    " 'visitantes_año',\n",
    " 'año_conteo',\n",
    " '#']"
   ]
  },
  {
   "cell_type": "code",
   "execution_count": 706,
   "metadata": {},
   "outputs": [],
   "source": [
    "df.columns = lista_cols"
   ]
  },
  {
   "cell_type": "code",
   "execution_count": 707,
   "metadata": {},
   "outputs": [
    {
     "data": {
      "text/plain": [
       "0"
      ]
     },
     "execution_count": 707,
     "metadata": {},
     "output_type": "execute_result"
    }
   ],
   "source": [
    "df.duplicated().sum()"
   ]
  },
  {
   "cell_type": "code",
   "execution_count": 708,
   "metadata": {},
   "outputs": [
    {
     "data": {
      "text/plain": [
       "imagen             0.000000\n",
       "n.º                0.970874\n",
       "ph                 0.485437\n",
       "nombre             0.970874\n",
       "ciudad            22.815534\n",
       "pais              22.815534\n",
       "visitantes_año    45.631068\n",
       "año_conteo        45.145631\n",
       "#                 47.087379\n",
       "dtype: float64"
      ]
     },
     "execution_count": 708,
     "metadata": {},
     "output_type": "execute_result"
    }
   ],
   "source": [
    "df.isnull().sum() *100 /df.shape[0]"
   ]
  },
  {
   "cell_type": "code",
   "execution_count": 709,
   "metadata": {},
   "outputs": [],
   "source": [
    "df.drop([\"ph\", \"n.º\", \"#\"], axis=1, inplace=True)"
   ]
  },
  {
   "attachments": {},
   "cell_type": "markdown",
   "metadata": {},
   "source": [
    "_________"
   ]
  },
  {
   "attachments": {},
   "cell_type": "markdown",
   "metadata": {},
   "source": [
    "### 2. Sacamos la columna de continente"
   ]
  },
  {
   "attachments": {},
   "cell_type": "markdown",
   "metadata": {},
   "source": [
    "1º \"limpiamos\" la columna de paises"
   ]
  },
  {
   "cell_type": "code",
   "execution_count": 710,
   "metadata": {},
   "outputs": [],
   "source": [
    "df[\"pais\"] = df[\"pais\"].str.split()"
   ]
  },
  {
   "cell_type": "code",
   "execution_count": 711,
   "metadata": {},
   "outputs": [],
   "source": [
    "def pais(col):\n",
    "    try:\n",
    "        col = col[-1]\n",
    "        return col\n",
    "    except:\n",
    "        pass"
   ]
  },
  {
   "cell_type": "code",
   "execution_count": 712,
   "metadata": {},
   "outputs": [
    {
     "data": {
      "text/html": [
       "<div>\n",
       "<style scoped>\n",
       "    .dataframe tbody tr th:only-of-type {\n",
       "        vertical-align: middle;\n",
       "    }\n",
       "\n",
       "    .dataframe tbody tr th {\n",
       "        vertical-align: top;\n",
       "    }\n",
       "\n",
       "    .dataframe thead th {\n",
       "        text-align: right;\n",
       "    }\n",
       "</style>\n",
       "<table border=\"1\" class=\"dataframe\">\n",
       "  <thead>\n",
       "    <tr style=\"text-align: right;\">\n",
       "      <th></th>\n",
       "      <th>imagen</th>\n",
       "      <th>nombre</th>\n",
       "      <th>ciudad</th>\n",
       "      <th>pais</th>\n",
       "      <th>visitantes_año</th>\n",
       "      <th>año_conteo</th>\n",
       "    </tr>\n",
       "  </thead>\n",
       "  <tbody>\n",
       "    <tr>\n",
       "      <th>0</th>\n",
       "      <td>Shwedagon Pagoda 2017.jpg</td>\n",
       "      <td>Gran Pagoda de Shwedagon</td>\n",
       "      <td>Yangon</td>\n",
       "      <td>[Bandera, de, Birmania, Birmania]</td>\n",
       "      <td>615 763</td>\n",
       "      <td>201747​</td>\n",
       "    </tr>\n",
       "    <tr>\n",
       "      <th>1</th>\n",
       "      <td>Kerbela Hussein Moschee.jpg</td>\n",
       "      <td>Tumba del Imán Hussein</td>\n",
       "      <td>Kerbala</td>\n",
       "      <td>[Bandera, de, Irak, Irak]</td>\n",
       "      <td>45 000 000</td>\n",
       "      <td>?</td>\n",
       "    </tr>\n",
       "  </tbody>\n",
       "</table>\n",
       "</div>"
      ],
      "text/plain": [
       "                        imagen                    nombre   ciudad  \\\n",
       "0    Shwedagon Pagoda 2017.jpg  Gran Pagoda de Shwedagon   Yangon   \n",
       "1  Kerbela Hussein Moschee.jpg    Tumba del Imán Hussein  Kerbala   \n",
       "\n",
       "                                pais visitantes_año año_conteo  \n",
       "0  [Bandera, de, Birmania, Birmania]        615 763    201747​  \n",
       "1          [Bandera, de, Irak, Irak]     45 000 000          ?  "
      ]
     },
     "execution_count": 712,
     "metadata": {},
     "output_type": "execute_result"
    }
   ],
   "source": [
    "df.head(2)"
   ]
  },
  {
   "cell_type": "code",
   "execution_count": 713,
   "metadata": {},
   "outputs": [],
   "source": [
    "df[\"pais_corto\"] = df[\"pais\"].apply(pais) #Lo almacenamos en una columna nueva por seguir manteniendo la información original"
   ]
  },
  {
   "cell_type": "code",
   "execution_count": 714,
   "metadata": {},
   "outputs": [
    {
     "data": {
      "text/html": [
       "<div>\n",
       "<style scoped>\n",
       "    .dataframe tbody tr th:only-of-type {\n",
       "        vertical-align: middle;\n",
       "    }\n",
       "\n",
       "    .dataframe tbody tr th {\n",
       "        vertical-align: top;\n",
       "    }\n",
       "\n",
       "    .dataframe thead th {\n",
       "        text-align: right;\n",
       "    }\n",
       "</style>\n",
       "<table border=\"1\" class=\"dataframe\">\n",
       "  <thead>\n",
       "    <tr style=\"text-align: right;\">\n",
       "      <th></th>\n",
       "      <th>imagen</th>\n",
       "      <th>nombre</th>\n",
       "      <th>ciudad</th>\n",
       "      <th>pais</th>\n",
       "      <th>visitantes_año</th>\n",
       "      <th>año_conteo</th>\n",
       "      <th>pais_corto</th>\n",
       "    </tr>\n",
       "  </thead>\n",
       "  <tbody>\n",
       "    <tr>\n",
       "      <th>0</th>\n",
       "      <td>Shwedagon Pagoda 2017.jpg</td>\n",
       "      <td>Gran Pagoda de Shwedagon</td>\n",
       "      <td>Yangon</td>\n",
       "      <td>[Bandera, de, Birmania, Birmania]</td>\n",
       "      <td>615 763</td>\n",
       "      <td>201747​</td>\n",
       "      <td>Birmania</td>\n",
       "    </tr>\n",
       "    <tr>\n",
       "      <th>1</th>\n",
       "      <td>Kerbela Hussein Moschee.jpg</td>\n",
       "      <td>Tumba del Imán Hussein</td>\n",
       "      <td>Kerbala</td>\n",
       "      <td>[Bandera, de, Irak, Irak]</td>\n",
       "      <td>45 000 000</td>\n",
       "      <td>?</td>\n",
       "      <td>Irak</td>\n",
       "    </tr>\n",
       "  </tbody>\n",
       "</table>\n",
       "</div>"
      ],
      "text/plain": [
       "                        imagen                    nombre   ciudad  \\\n",
       "0    Shwedagon Pagoda 2017.jpg  Gran Pagoda de Shwedagon   Yangon   \n",
       "1  Kerbela Hussein Moschee.jpg    Tumba del Imán Hussein  Kerbala   \n",
       "\n",
       "                                pais visitantes_año año_conteo pais_corto  \n",
       "0  [Bandera, de, Birmania, Birmania]        615 763    201747​   Birmania  \n",
       "1          [Bandera, de, Irak, Irak]     45 000 000          ?       Irak  "
      ]
     },
     "execution_count": 714,
     "metadata": {},
     "output_type": "execute_result"
    }
   ],
   "source": [
    "df.head(2)"
   ]
  },
  {
   "attachments": {},
   "cell_type": "markdown",
   "metadata": {},
   "source": [
    "2º De la columna \"limpia de paises\" sacamos la columna nueva de continente"
   ]
  },
  {
   "cell_type": "code",
   "execution_count": 715,
   "metadata": {},
   "outputs": [],
   "source": [
    "my_world = awoc.AWOC()"
   ]
  },
  {
   "cell_type": "code",
   "execution_count": 716,
   "metadata": {},
   "outputs": [],
   "source": [
    "def continente(col):\n",
    "    asia = [\"Sur\", \"Birmania\" ,\"Irak\", \"Irán\", \"Japón\", 'China', \"Turquía\",'Israel', 'Yangon','Kerbala', 'Kerala', 'Mashad','Tokio','Benarés','Andhra Pradesh','Prefectura de Chiba','Kamakura','Ise','Beijing','Dazaifu','Saitama','Nueva Delhi','Hangzhou','Taipéi','Nanjing','Changsha','Shanghái','Gansu','Seúl','Taichung','Chongqing','Konya','Xian',\"Kevadiya\",'Suzhou','Galilea', 'Nazaret','Kaohsiung', 'Jerusalén', 'San Petersburgo', 'Yucatan', 'La Meca','Puerto Rico','Haifa','Taichung', 'Angkor', 'Kevadiya', 'Saitama', 'Agra','China', 'Pekin']\n",
    "    europa =  [\"Unido\", 'Francia', 'Portugal', 'Italia', 'Rusia', 'España', 'Polonia', 'Bajos', 'Alemania', 'Austria', 'París','Ourém','Roma','San Giovanni Rotondo','Londres','Lourdes','Venecia','San Petersburgo','Barcelona', 'Madrid','Czestochowa','Florencia', 'Varsovia', 'Valencia','Greenwich','Ámsterdam','Edimburgo','Moscú','Estambul', 'Hohenschwangau','Mariazell','Milán', 'Grecia', 'Alemania', 'Asis','Ciudad del Vaticano', 'Nápoles', 'Varsovia', 'Viena', 'Granada', 'Oswiecim', 'Cordoba', 'Sevilla', 'Amesbury(condad de Wiltshire)', 'Konya','Volgogrado','Pamukkale', 'Kazan','Viena', 'Colonia','Roma', 'Versalles']\n",
    "    america = [\"TRINIDAD AND TOBAGO\", \"Brasil\", \"México\", \"Unidos\", 'Aparecida', 'Cuzco', 'Ciudad de México','Washington D. C.','Nueva York','Filadelfia','Los Ángeles','Houston','Quintana Roo','Teotihucán']\n",
    "    oceania =['Melbourne', 'Sidney']\n",
    "    africa = ['El Cairo']\n",
    "\n",
    "    try:\n",
    "        if col in asia:\n",
    "            return \"Asia\"\n",
    "        elif col in europa:\n",
    "            return \"Europa\"\n",
    "        elif col in america:\n",
    "            return \"America\"\n",
    "        elif col in africa:\n",
    "            return \"Africa\"\n",
    "        else:\n",
    "            return my_world.get_country_continent_name(col)\n",
    "    except:\n",
    "        pass"
   ]
  },
  {
   "cell_type": "code",
   "execution_count": 717,
   "metadata": {},
   "outputs": [],
   "source": [
    "df[\"continente\"] = df[\"pais_corto\"].apply(continente)"
   ]
  },
  {
   "cell_type": "code",
   "execution_count": 718,
   "metadata": {},
   "outputs": [
    {
     "data": {
      "text/plain": [
       "array(['Asia', None, 'America', 'Europa', 'Oceania'], dtype=object)"
      ]
     },
     "execution_count": 718,
     "metadata": {},
     "output_type": "execute_result"
    }
   ],
   "source": [
    "df[\"continente\"].unique()"
   ]
  },
  {
   "attachments": {},
   "cell_type": "markdown",
   "metadata": {},
   "source": [
    "_____________"
   ]
  },
  {
   "attachments": {},
   "cell_type": "markdown",
   "metadata": {},
   "source": [
    "### 3. \"Rellenamos\" la columna de ciudad con los datos correspondientes"
   ]
  },
  {
   "cell_type": "code",
   "execution_count": 719,
   "metadata": {},
   "outputs": [
    {
     "ename": "NameError",
     "evalue": "name 'f' is not defined",
     "output_type": "error",
     "traceback": [
      "\u001b[0;31m---------------------------------------------------------------------------\u001b[0m",
      "\u001b[0;31mNameError\u001b[0m                                 Traceback (most recent call last)",
      "\u001b[0;32m/tmp/ipykernel_247/4058002314.py\u001b[0m in \u001b[0;36m<module>\u001b[0;34m\u001b[0m\n\u001b[0;32m----> 1\u001b[0;31m \u001b[0mf\u001b[0m\u001b[0;34m\u001b[0m\u001b[0;34m\u001b[0m\u001b[0m\n\u001b[0m",
      "\u001b[0;31mNameError\u001b[0m: name 'f' is not defined"
     ]
    }
   ],
   "source": [
    "f"
   ]
  },
  {
   "cell_type": "code",
   "execution_count": null,
   "metadata": {},
   "outputs": [
    {
     "data": {
      "text/plain": [
       "array(['Yangon', 'Kerbala', 'Kerala', 'Mashad', 'Tokio', 'Benarés',\n",
       "       'Andhra Pradesh', nan, '20182\\u200b', '?3\\u200b', 'Aparecida',\n",
       "       '20184\\u200b5\\u200b', 'Ciudad de México', 'París',\n",
       "       'Prefectura de Chiba', 'Kamakura', '20121\\u200b', '201921\\u200b',\n",
       "       'Ourém', 'Ise', '20188\\u200b', 'Washington D. C.', '201810\\u200b',\n",
       "       'Beijing', '201611\\u200b', '2018 12\\u200b', '201713\\u200b', 'Roma',\n",
       "       'Flag of the United Arab Emirates.svg Emiratos Árabes Unidos',\n",
       "       'Dazaifu', 'San Giovanni Rotondo', 'Nueva York', 'Londres',\n",
       "       'Lourdes', '201815\\u200b', '201616\\u200b', 'Venecia', 'Saitama',\n",
       "       'San Petersburgo', 'Filadelfia', 'Barcelona', 'Nueva Delhi',\n",
       "       '?7\\u200b', 'Madrid', 'Czestochowa', 'Florencia', 'Hangzhou',\n",
       "       'Washington, D.C.', '201820\\u200b', 'Taipéi', '201922\\u200b',\n",
       "       'Nanjing', '2018 23\\u200b', '2018', 'Changsha', 'Shanghái',\n",
       "       'Gansu', 'Seúl', '[[]]', 'Varsovia', '201725\\u200b',\n",
       "       '201726\\u200b', 'Taichung', '201827\\u200b', '201828\\u200b',\n",
       "       'Chongqing', 'Konya', \"Xi'an\", 'Chengdu', '201829\\u200b',\n",
       "       '201830\\u200b', 'Valencia', 'Kevadiya (Guyarat)', '201834\\u200b',\n",
       "       'Melbourne', '?', 'Greenwich', 'Los Ángeles',\n",
       "       'Bandera de Arabia Saudita Arabia Saudita',\n",
       "       'Flag of Russia.svg Rusia', 'Suzhou', 'Houston', 'Ámsterdam',\n",
       "       'Galilea', 'Nazaret', 'Edimburgo', 'Quintana Roo', 'Moscú',\n",
       "       '201838\\u200b', 'Estambul', 'Kaohsiung', '201840\\u200b',\n",
       "       '201841\\u200b', '201842\\u200b', 'Hohenschwangau', 'Jerusalén',\n",
       "       '201745\\u200b', '201646\\u200b', 'Mariazell', 'Milán'], dtype=object)"
      ]
     },
     "execution_count": 11,
     "metadata": {},
     "output_type": "execute_result"
    }
   ],
   "source": [
    "df.ciudad.unique()"
   ]
  },
  {
   "cell_type": "code",
   "execution_count": null,
   "metadata": {},
   "outputs": [
    {
     "data": {
      "text/html": [
       "<div>\n",
       "<style scoped>\n",
       "    .dataframe tbody tr th:only-of-type {\n",
       "        vertical-align: middle;\n",
       "    }\n",
       "\n",
       "    .dataframe tbody tr th {\n",
       "        vertical-align: top;\n",
       "    }\n",
       "\n",
       "    .dataframe thead th {\n",
       "        text-align: right;\n",
       "    }\n",
       "</style>\n",
       "<table border=\"1\" class=\"dataframe\">\n",
       "  <thead>\n",
       "    <tr style=\"text-align: right;\">\n",
       "      <th></th>\n",
       "      <th>Imagen</th>\n",
       "      <th>Nombre</th>\n",
       "      <th>Ciudad</th>\n",
       "      <th>País</th>\n",
       "      <th>Visitantes/año</th>\n",
       "      <th>Año</th>\n",
       "    </tr>\n",
       "  </thead>\n",
       "  <tbody>\n",
       "    <tr>\n",
       "      <th>8</th>\n",
       "      <td>( Patrimonio de la Humanidad (parte de «Palaci...</td>\n",
       "      <td>17 000 000+</td>\n",
       "      <td>20182​</td>\n",
       "      <td>—</td>\n",
       "      <td>NaN</td>\n",
       "      <td>NaN</td>\n",
       "    </tr>\n",
       "  </tbody>\n",
       "</table>\n",
       "</div>"
      ],
      "text/plain": [
       "                                              Imagen       Nombre  Ciudad  \\\n",
       "8  ( Patrimonio de la Humanidad (parte de «Palaci...  17 000 000+  20182​   \n",
       "\n",
       "  País Visitantes/año  Año  \n",
       "8    —            NaN  NaN  "
      ]
     },
     "execution_count": 12,
     "metadata": {},
     "output_type": "execute_result"
    }
   ],
   "source": [
    "df[df[\"ciudad\"]== '20182\\u200b']"
   ]
  },
  {
   "cell_type": "code",
   "execution_count": null,
   "metadata": {},
   "outputs": [],
   "source": [
    "df.iloc[8,2] = \"Pekin\""
   ]
  },
  {
   "cell_type": "code",
   "execution_count": null,
   "metadata": {},
   "outputs": [
    {
     "data": {
      "text/plain": [
       "'Pekin'"
      ]
     },
     "execution_count": 14,
     "metadata": {},
     "output_type": "execute_result"
    }
   ],
   "source": [
    "df.iloc[8,2]"
   ]
  },
  {
   "attachments": {},
   "cell_type": "markdown",
   "metadata": {},
   "source": [
    "_______________________"
   ]
  },
  {
   "attachments": {},
   "cell_type": "markdown",
   "metadata": {},
   "source": [
    "### 4. Limpiamos la columna de año"
   ]
  },
  {
   "cell_type": "code",
   "execution_count": 720,
   "metadata": {},
   "outputs": [
    {
     "data": {
      "text/plain": [
       "array(['201747\\u200b', '?', '20121\\u200b', nan, '20176\\u200b', '?7\\u200b',\n",
       "       '2018 9\\u200b', '201921\\u200b', '—', '201949\\u200b', '20189\\u200b',\n",
       "       '201817\\u200b', '2018 18\\u200b', '201850\\u200b', '201919\\u200b',\n",
       "       '201838\\u200b', '2019 51\\u200b', '201952\\u200b', '201827\\u200b',\n",
       "       '201753\\u200b', '201624\\u200b', '201854\\u200b', '201855\\u200b',\n",
       "       '201831\\u200b', '201832\\u200b', '201933\\u200b', '201856\\u200b',\n",
       "       '2017 57\\u200b', '201858\\u200b', '201859\\u200b', '201836\\u200b',\n",
       "       '201760\\u200b', '201837\\u200b', '201739\\u200b', '201761\\u200b',\n",
       "       '201842\\u200b', '2017', '201843\\u200b', '201744\\u200b'],\n",
       "      dtype=object)"
      ]
     },
     "execution_count": 720,
     "metadata": {},
     "output_type": "execute_result"
    }
   ],
   "source": [
    "df.año_conteo.unique() # Vemos que el año cuando se tomaron el conteo de gente son los primeros 4 numeros, como no sabemos a qué hace referencia los siguientes los quitaremos."
   ]
  },
  {
   "cell_type": "code",
   "execution_count": 721,
   "metadata": {},
   "outputs": [],
   "source": [
    "def limpia_año(col):\n",
    "    patron = r\"\\d{4}\"\n",
    "\n",
    "    try:\n",
    "        return re.findall(patron, col)[0]\n",
    "    except:\n",
    "        pass"
   ]
  },
  {
   "cell_type": "code",
   "execution_count": 722,
   "metadata": {},
   "outputs": [],
   "source": [
    "df[\"año_conteo\"] = df[\"año_conteo\"].apply(limpia_año)"
   ]
  },
  {
   "cell_type": "code",
   "execution_count": 723,
   "metadata": {},
   "outputs": [
    {
     "data": {
      "text/html": [
       "<div>\n",
       "<style scoped>\n",
       "    .dataframe tbody tr th:only-of-type {\n",
       "        vertical-align: middle;\n",
       "    }\n",
       "\n",
       "    .dataframe tbody tr th {\n",
       "        vertical-align: top;\n",
       "    }\n",
       "\n",
       "    .dataframe thead th {\n",
       "        text-align: right;\n",
       "    }\n",
       "</style>\n",
       "<table border=\"1\" class=\"dataframe\">\n",
       "  <thead>\n",
       "    <tr style=\"text-align: right;\">\n",
       "      <th></th>\n",
       "      <th>imagen</th>\n",
       "      <th>nombre</th>\n",
       "      <th>ciudad</th>\n",
       "      <th>pais</th>\n",
       "      <th>visitantes_año</th>\n",
       "      <th>año_conteo</th>\n",
       "      <th>pais_corto</th>\n",
       "      <th>continente</th>\n",
       "    </tr>\n",
       "  </thead>\n",
       "  <tbody>\n",
       "    <tr>\n",
       "      <th>0</th>\n",
       "      <td>Shwedagon Pagoda 2017.jpg</td>\n",
       "      <td>Gran Pagoda de Shwedagon</td>\n",
       "      <td>Yangon</td>\n",
       "      <td>[Bandera, de, Birmania, Birmania]</td>\n",
       "      <td>615 763</td>\n",
       "      <td>2017</td>\n",
       "      <td>Birmania</td>\n",
       "      <td>Asia</td>\n",
       "    </tr>\n",
       "    <tr>\n",
       "      <th>1</th>\n",
       "      <td>Kerbela Hussein Moschee.jpg</td>\n",
       "      <td>Tumba del Imán Hussein</td>\n",
       "      <td>Kerbala</td>\n",
       "      <td>[Bandera, de, Irak, Irak]</td>\n",
       "      <td>45 000 000</td>\n",
       "      <td>None</td>\n",
       "      <td>Irak</td>\n",
       "      <td>Asia</td>\n",
       "    </tr>\n",
       "  </tbody>\n",
       "</table>\n",
       "</div>"
      ],
      "text/plain": [
       "                        imagen                    nombre   ciudad  \\\n",
       "0    Shwedagon Pagoda 2017.jpg  Gran Pagoda de Shwedagon   Yangon   \n",
       "1  Kerbela Hussein Moschee.jpg    Tumba del Imán Hussein  Kerbala   \n",
       "\n",
       "                                pais visitantes_año año_conteo pais_corto  \\\n",
       "0  [Bandera, de, Birmania, Birmania]        615 763       2017   Birmania   \n",
       "1          [Bandera, de, Irak, Irak]     45 000 000       None       Irak   \n",
       "\n",
       "  continente  \n",
       "0       Asia  \n",
       "1       Asia  "
      ]
     },
     "execution_count": 723,
     "metadata": {},
     "output_type": "execute_result"
    }
   ],
   "source": [
    "df.head(2)"
   ]
  },
  {
   "cell_type": "code",
   "execution_count": 724,
   "metadata": {},
   "outputs": [
    {
     "data": {
      "text/plain": [
       "array(['2017', None, '2012', '2018', '2019', '2016'], dtype=object)"
      ]
     },
     "execution_count": 724,
     "metadata": {},
     "output_type": "execute_result"
    }
   ],
   "source": [
    "df.año_conteo.unique()"
   ]
  },
  {
   "attachments": {},
   "cell_type": "markdown",
   "metadata": {},
   "source": [
    "Convertimos a float y no a int porque la columna tiene NaNs"
   ]
  },
  {
   "cell_type": "code",
   "execution_count": 725,
   "metadata": {},
   "outputs": [],
   "source": [
    "df[\"año_conteo\"] = df[\"año_conteo\"].astype(float)"
   ]
  },
  {
   "attachments": {},
   "cell_type": "markdown",
   "metadata": {},
   "source": [
    "____________________"
   ]
  },
  {
   "attachments": {},
   "cell_type": "markdown",
   "metadata": {},
   "source": [
    "### 5. \"Limpiamos\" y cambiamos el tipo de dato de la columna \"visitantes_año\""
   ]
  },
  {
   "cell_type": "code",
   "execution_count": 726,
   "metadata": {},
   "outputs": [
    {
     "data": {
      "text/plain": [
       "array(['615 763', '45 000 000', '40 000 000', '30 000 000', '21 900 000',\n",
       "       '18 250 000', nan, '13 000 000', '10 600 000', '10 500 000',\n",
       "       '10 000 000', '9 400 000', '8 500 000', '7 804 683', '7 390 000',\n",
       "       '7 000 000', '2019 14\\u200b', '6 600 000', '6 479 548',\n",
       "       '6 239 983', '6 098 340', '6 011 007', '6 000 000', '5 500 000',\n",
       "       '5 300 000', '5 000 000', '4 956 529', '4 719 148', '4 652 865',\n",
       "       '4 576 436', '4 500 000', '4 425 699', '4 400 000', '4 391 861',\n",
       "       '4 335 431', '4 200 000', '4 074 403', '3 932 938', '3 832 373',\n",
       "       '3 670 000', '3 600 000', '3 540 000', '3 500 000', '3 354 161',\n",
       "       '3 286 000', '3 273 867', '3 232 730', '3 200 000', '3 143 626',\n",
       "       '3 100 000', '3 098 985', '2 963 857', '2 893 000', '2 830 000',\n",
       "       '2 817 386', '2 800 000', '2 787 770', '2 780 000', '2 774 103',\n",
       "       '2 717 565', '2 661 615', '2 637 567', '2 600 000+', '2 596 725',\n",
       "       '2 565 474', '2 560 000', '2 550 000', '2 549 833', '2 520 000',\n",
       "       '201935\\u200b', '2 460 000', '2 431 073', '2 400 000',\n",
       "       '201616\\u200b', '2 340 000', '2 313 000', '2 304 404', '2 300 000',\n",
       "       '2 250 000', '2 240 000', '2 231 000', '2 227 773', '2 192 200',\n",
       "       '2 190 000', '2 165 601', '2 161 160', '2 148 538', '2 111 730',\n",
       "       '2 111 578', '2 100 000', '2 054 719', '2 000 000', '1 981 000',\n",
       "       '1 700 000', '1 657 446', '1 583 260', '1 552 481', '1 500 000',\n",
       "       '1 300 000', '1 000 000+', '1 000 000'], dtype=object)"
      ]
     },
     "execution_count": 726,
     "metadata": {},
     "output_type": "execute_result"
    }
   ],
   "source": [
    "df[\"visitantes_año\"].unique()"
   ]
  },
  {
   "attachments": {},
   "cell_type": "markdown",
   "metadata": {},
   "source": [
    "1º Eliminamos los valores corruptos"
   ]
  },
  {
   "cell_type": "code",
   "execution_count": 727,
   "metadata": {},
   "outputs": [
    {
     "name": "stderr",
     "output_type": "stream",
     "text": [
      "/tmp/ipykernel_247/4176642583.py:4: FutureWarning: The default value of regex will change from True to False in a future version. In addition, single character regular expressions will *not* be treated as literal strings when regex=True.\n",
      "  df[\"visitantes_año\"] = df[\"visitantes_año\"].str.replace(x, \"\")\n"
     ]
    }
   ],
   "source": [
    "lista = [ \"2019 14\\u200b\", \"201935\\u200b\", \"201616\\u200b\", \"+\" ] #, \" \"]\n",
    "\n",
    "for x in lista:\n",
    "    df[\"visitantes_año\"] = df[\"visitantes_año\"].str.replace(x, \"\")"
   ]
  },
  {
   "cell_type": "code",
   "execution_count": 728,
   "metadata": {},
   "outputs": [
    {
     "data": {
      "text/plain": [
       "array(['615 763', '45 000 000', '40 000 000', '30 000 000', '21 900 000',\n",
       "       '18 250 000', nan, '13 000 000', '10 600 000', '10 500 000',\n",
       "       '10 000 000', '9 400 000', '8 500 000', '7 804 683', '7 390 000',\n",
       "       '7 000 000', '', '6 600 000', '6 479 548', '6 239 983',\n",
       "       '6 098 340', '6 011 007', '6 000 000', '5 500 000', '5 300 000',\n",
       "       '5 000 000', '4 956 529', '4 719 148', '4 652 865', '4 576 436',\n",
       "       '4 500 000', '4 425 699', '4 400 000', '4 391 861', '4 335 431',\n",
       "       '4 200 000', '4 074 403', '3 932 938', '3 832 373', '3 670 000',\n",
       "       '3 600 000', '3 540 000', '3 500 000', '3 354 161', '3 286 000',\n",
       "       '3 273 867', '3 232 730', '3 200 000', '3 143 626', '3 100 000',\n",
       "       '3 098 985', '2 963 857', '2 893 000', '2 830 000', '2 817 386',\n",
       "       '2 800 000', '2 787 770', '2 780 000', '2 774 103', '2 717 565',\n",
       "       '2 661 615', '2 637 567', '2 600 000', '2 596 725', '2 565 474',\n",
       "       '2 560 000', '2 550 000', '2 549 833', '2 520 000', '2 460 000',\n",
       "       '2 431 073', '2 400 000', '2 340 000', '2 313 000', '2 304 404',\n",
       "       '2 300 000', '2 250 000', '2 240 000', '2 231 000', '2 227 773',\n",
       "       '2 192 200', '2 190 000', '2 165 601', '2 161 160', '2 148 538',\n",
       "       '2 111 730', '2 111 578', '2 100 000', '2 054 719', '2 000 000',\n",
       "       '1 981 000', '1 700 000', '1 657 446', '1 583 260', '1 552 481',\n",
       "       '1 500 000', '1 300 000', '1 000 000'], dtype=object)"
      ]
     },
     "execution_count": 728,
     "metadata": {},
     "output_type": "execute_result"
    }
   ],
   "source": [
    "df[\"visitantes_año\"].unique()"
   ]
  },
  {
   "attachments": {},
   "cell_type": "markdown",
   "metadata": {},
   "source": [
    "2º convertimos a número"
   ]
  },
  {
   "cell_type": "code",
   "execution_count": 738,
   "metadata": {},
   "outputs": [],
   "source": [
    "#df[\"visitantes_año\"] = pd.to_numeric(df[\"visitantes_año\"])   \n",
    "# Dejo comentada la fila porque si convierto a float luego no puedo filtrar por value_counts"
   ]
  },
  {
   "cell_type": "code",
   "execution_count": 730,
   "metadata": {},
   "outputs": [
    {
     "data": {
      "text/html": [
       "<div>\n",
       "<style scoped>\n",
       "    .dataframe tbody tr th:only-of-type {\n",
       "        vertical-align: middle;\n",
       "    }\n",
       "\n",
       "    .dataframe tbody tr th {\n",
       "        vertical-align: top;\n",
       "    }\n",
       "\n",
       "    .dataframe thead th {\n",
       "        text-align: right;\n",
       "    }\n",
       "</style>\n",
       "<table border=\"1\" class=\"dataframe\">\n",
       "  <thead>\n",
       "    <tr style=\"text-align: right;\">\n",
       "      <th></th>\n",
       "      <th>imagen</th>\n",
       "      <th>nombre</th>\n",
       "      <th>ciudad</th>\n",
       "      <th>pais</th>\n",
       "      <th>visitantes_año</th>\n",
       "      <th>año_conteo</th>\n",
       "      <th>pais_corto</th>\n",
       "      <th>continente</th>\n",
       "    </tr>\n",
       "  </thead>\n",
       "  <tbody>\n",
       "    <tr>\n",
       "      <th>0</th>\n",
       "      <td>Shwedagon Pagoda 2017.jpg</td>\n",
       "      <td>Gran Pagoda de Shwedagon</td>\n",
       "      <td>Yangon</td>\n",
       "      <td>[Bandera, de, Birmania, Birmania]</td>\n",
       "      <td>615 763</td>\n",
       "      <td>2017.0</td>\n",
       "      <td>Birmania</td>\n",
       "      <td>Asia</td>\n",
       "    </tr>\n",
       "    <tr>\n",
       "      <th>1</th>\n",
       "      <td>Kerbela Hussein Moschee.jpg</td>\n",
       "      <td>Tumba del Imán Hussein</td>\n",
       "      <td>Kerbala</td>\n",
       "      <td>[Bandera, de, Irak, Irak]</td>\n",
       "      <td>45 000 000</td>\n",
       "      <td>NaN</td>\n",
       "      <td>Irak</td>\n",
       "      <td>Asia</td>\n",
       "    </tr>\n",
       "  </tbody>\n",
       "</table>\n",
       "</div>"
      ],
      "text/plain": [
       "                        imagen                    nombre   ciudad  \\\n",
       "0    Shwedagon Pagoda 2017.jpg  Gran Pagoda de Shwedagon   Yangon   \n",
       "1  Kerbela Hussein Moschee.jpg    Tumba del Imán Hussein  Kerbala   \n",
       "\n",
       "                                pais visitantes_año  año_conteo pais_corto  \\\n",
       "0  [Bandera, de, Birmania, Birmania]        615 763      2017.0   Birmania   \n",
       "1          [Bandera, de, Irak, Irak]     45 000 000         NaN       Irak   \n",
       "\n",
       "  continente  \n",
       "0       Asia  \n",
       "1       Asia  "
      ]
     },
     "execution_count": 730,
     "metadata": {},
     "output_type": "execute_result"
    }
   ],
   "source": [
    "df.head(2)"
   ]
  },
  {
   "attachments": {},
   "cell_type": "markdown",
   "metadata": {},
   "source": [
    "______"
   ]
  },
  {
   "attachments": {},
   "cell_type": "markdown",
   "metadata": {},
   "source": [
    "### Filtros"
   ]
  },
  {
   "cell_type": "code",
   "execution_count": 732,
   "metadata": {},
   "outputs": [],
   "source": [
    "df_asia = df[df[\"continente\"]== \"Asia\"]\n",
    "df_america = df[df[\"continente\"]== \"America\"]\n",
    "df_europa = df[df[\"continente\"]== \"Europa\"]\n",
    "df_africa = df[df[\"continente\"]== \"Africa\"]\n",
    "df_oceania = df[df[\"continente\"]== \"Oceania\"]"
   ]
  },
  {
   "cell_type": "code",
   "execution_count": 731,
   "metadata": {},
   "outputs": [],
   "source": [
    "# Posible \"filtro\" para quitar valores nans\n",
    "\n",
    "\n",
    "\n",
    "# lista_visitantes = ['615 763', '45 000 000', '40 000 000', '30 000 000', '21 900 000',\n",
    "#        '18 250 000', '13 000 000', '10 600 000', '10 500 000',\n",
    "#        '10 000 000', '9 400 000', '8 500 000', '7 804 683', '7 390 000',\n",
    "#        '7 000 000',  '6 600 000', '6 479 548',\n",
    "#        '6 239 983', '6 098 340', '6 011 007', '6 000 000', '5 500 000',\n",
    "#        '5 300 000', '5 000 000', '4 956 529', '4 719 148', '4 652 865',\n",
    "#        '4 576 436', '4 500 000', '4 425 699', '4 400 000', '4 391 861',\n",
    "#        '4 335 431', '4 200 000', '4 074 403', '3 932 938', '3 832 373',\n",
    "#        '3 670 000', '3 600 000', '3 540 000', '3 500 000', '3 354 161',\n",
    "#        '3 286 000', '3 273 867', '3 232 730', '3 200 000', '3 143 626',\n",
    "#        '3 100 000', '3 098 985', '2 963 857', '2 893 000', '2 830 000',\n",
    "#        '2 817 386', '2 800 000', '2 787 770', '2 780 000', '2 774 103',\n",
    "#        '2 717 565', '2 661 615', '2 637 567', '2 600 000+', '2 596 725',\n",
    "#        '2 565 474', '2 560 000', '2 550 000', '2 549 833', '2 520 000',\n",
    "#         '2 460 000', '2 431 073', '2 400 000',\n",
    "#         '2 340 000', '2 313 000', '2 304 404', '2 300 000',\n",
    "#        '2 250 000', '2 240 000', '2 231 000', '2 227 773', '2 192 200',\n",
    "#        '2 190 000', '2 165 601', '2 161 160', '2 148 538', '2 111 730',\n",
    "#        '2 111 578', '2 100 000', '2 054 719', '2 000 000', '1 981 000',\n",
    "#        '1 700 000', '1 657 446', '1 583 260', '1 552 481', '1 500 000',\n",
    "#        '1 300 000', '1 000 000+', '1 000 000']\n",
    "# \n",
    "# df_2 = df[df[\"visitantes_año\"].isin(lista_visitantes)]"
   ]
  },
  {
   "cell_type": "code",
   "execution_count": 739,
   "metadata": {},
   "outputs": [],
   "source": [
    "# Esta celda y la siguiente para filtrar por los top 10 de visitas según contiente. No aplicar hasta decidir como rellenar los datos valores no actualizados o nans de la columna \"visitantes_año\"\n",
    "\n",
    "# df_europa[\"visitantes_año\"].value_counts()[:10]"
   ]
  },
  {
   "cell_type": "code",
   "execution_count": 734,
   "metadata": {},
   "outputs": [],
   "source": [
    "# lista_europa = [ \"10 500 000\" ,\"2 161 160\",\"2 637 567\" ,\"2 549 833\" ,\"2 300 000\" ,\"2 231 000\" ,\"2 227 773\" ,\"2 192 200\" ,\"2 165 601\" ,\"2 148 538\"  ]\n",
    "# df_europa_2 = df_europa[df_europa[\"visitantes_año\"].isin(lista_europa)]\n",
    "# df_europa_2\n",
    "\n",
    "\n",
    "\n",
    "# df_total = pd.concat([df_europa_2,df_america_2,df_asia_2,df_oceania, df_africa], axis=0).reset_index()"
   ]
  }
 ],
 "metadata": {
  "kernelspec": {
   "display_name": "base",
   "language": "python",
   "name": "python3"
  },
  "language_info": {
   "codemirror_mode": {
    "name": "ipython",
    "version": 3
   },
   "file_extension": ".py",
   "mimetype": "text/x-python",
   "name": "python",
   "nbconvert_exporter": "python",
   "pygments_lexer": "ipython3",
   "version": "3.9.7"
  },
  "orig_nbformat": 4,
  "vscode": {
   "interpreter": {
    "hash": "b3191f930eabfdf0eb39086a24df618ea48425015dbb471465fb2c793fed20fd"
   }
  }
 },
 "nbformat": 4,
 "nbformat_minor": 2
}
